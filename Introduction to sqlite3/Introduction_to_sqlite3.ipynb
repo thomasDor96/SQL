{
 "cells": [
  {
   "cell_type": "markdown",
   "metadata": {},
   "source": [
    "**Introduction to the `sqlite3` Library**\n",
    "========================================================\n"
   ]
  },
  {
   "cell_type": "markdown",
   "metadata": {},
   "source": [
    "**Relevant Links:**\n",
    "---------------\n",
    "\n",
    "*  Python `sqlite3` library documentation: https://docs.python.org/3/library/sqlite3.html#module-sqlite3   \n",
    "*  `SQLite` Documentation: https://www.sqlite.org/docs.html   \n",
    "*  Well-known users of `SQLite`: https://www.sqlite.org/famous.html  "
   ]
  },
  {
   "cell_type": "markdown",
   "metadata": {},
   "source": [
    "**`SQLite`** is a C library that provides a lightweight disk-based database that doesn’t require a separate server process. Applications can use SQLite for internal data storage. It’s also possible to prototype an application using SQLite and then later port the application to a production database system.   \n",
    "\n",
    "`SQLite` databases are stored in a file on disk (usually with a `.db` extension). If you attempt to connect to a database file that doesn't exist, `SQLite` with create a new database, assign it the name you passed to the connect function and save it to your current working directory. "
   ]
  },
  {
   "cell_type": "markdown",
   "metadata": {},
   "source": [
    "Typical sqlite setup and usage in Python is as follows:\n",
    "\n",
    "*  **Create a connection object** - For `SQLite`, pass the database filepath instead of authentication details:\n",
    "\n",
    "            db = sqlite3.connect(<filename>.db)\n",
    "            \n",
    "*  **Define a cursor** - Call the `cursor()` method on the connection object created above:\n",
    "\n",
    "            cursor = db.cursor()  \n",
    "            \n",
    "*  **Construct a query for the dataset of interest** - This can be almost any valid SQL command:\n",
    "\n",
    "            SQL = \"SELECT * FROM SAMPLE_TABLE\"  \n",
    "            \n",
    "*  **Pass the query string to the cursor's `execute` method:**\n",
    "\n",
    "            cursor.execute(SQL) \n",
    "            \n",
    "            \n",
    "*  **Iterate over the cursor** - Using a `for` loop, list comprehensions, etc...  \n",
    "\n",
    "  \n",
    "The result will be a list of tuples, so data elements can be accessed by row or selectively by referencing components by index offset: \n",
    "\n",
    "    for record in cursor: print(record)"
   ]
  },
  {
   "cell_type": "markdown",
   "metadata": {},
   "source": [
    "**Creating Databases and Tables**\n",
    "--------------------"
   ]
  },
  {
   "cell_type": "markdown",
   "metadata": {},
   "source": [
    "If the database file passed to the `sqlite3.connect` method doesn't exist, a new database with the name specified will be created. The following example creates a database consisting of 2 tables: The first table holds closing stock prices, the second contains a mapping between ticker symbols and company names:"
   ]
  },
  {
   "cell_type": "markdown",
   "metadata": {},
   "source": [
    "NOTE: For more information on `SQLite` datatypes and the resulting affinity mappings of common datatypes for   \n",
    "other RDBMS, follow this link and navigate to the *Affinity Name Examples* section:  \n",
    "\n",
    "https://www.sqlite.org/datatype3.html"
   ]
  },
  {
   "cell_type": "code",
   "execution_count": null,
   "metadata": {
    "collapsed": false
   },
   "outputs": [],
   "source": [
    "\"\"\"\n",
    "Creating a new database with two tables using the `sqlite3`\n",
    "module.\n",
    "\n",
    "=============================\n",
    "Table 1                     |\n",
    "=============================\n",
    "TABLENAME: `CLOSING_PRICES` |\n",
    "                            |\n",
    "FIELDS   : DATE   TEXT      |\n",
    "           TICKER TEXT      |\n",
    "           CLOSE  REAL      |\n",
    "=============================\n",
    "\n",
    "=============================\n",
    "Table 2                     |\n",
    "=============================\n",
    "TABLENAME: `TICKER_MAPPING` |\n",
    "                            |\n",
    "FIELDS   : TICKER       TEXT|\n",
    "           COMPANY NAME TEXT|     \n",
    "=============================\n",
    "           \n",
    "\"\"\"\n",
    "import sqlite3\n",
    "\n",
    "# Create new database `sample.db`. Notice `sample.db` is now \n",
    "# listed in your working directory:\n",
    "db = sqlite3.connect(\"sample.db\")\n",
    "\n",
    "# Initiate a cursor, and call the connection's cursor method:\n",
    "cursor = db.cursor()\n",
    "\n",
    "# Specify the DDL to create the two tables:\n",
    "tbl1_ddl = \"\"\"CREATE TABLE CLOSING_PRICES (\n",
    "              DATE   TEXT,\n",
    "              TICKER TEXT,\n",
    "              CLOSE  REAL)\"\"\"\n",
    "\n",
    "tbl2_ddl = \"\"\"CREATE TABLE TICKER_MAPPING (\n",
    "              TICKER       TEXT,\n",
    "              COMPANY_NAME TEXT)\"\"\"\n",
    "\n",
    "# Call the `cursor.execute` method, passing tbl1_ddl & tbl2_ddl as arguments:\n",
    "cursor.execute(tbl1_ddl)\n",
    "cursor.execute(tbl2_ddl)\n",
    "\n",
    "# IMPORTANT! Be sure to commit changes you want to persist. Without\n",
    "# commiting, changes will not be saved:\n",
    "db.commit()\n",
    "\n",
    "# close connection to `sample.db`:\n",
    "db.close()\n"
   ]
  },
  {
   "cell_type": "markdown",
   "metadata": {},
   "source": [
    "To verify that your tables have been created, run the following:"
   ]
  },
  {
   "cell_type": "code",
   "execution_count": null,
   "metadata": {
    "collapsed": false
   },
   "outputs": [],
   "source": [
    "# Restablish connection to `sample.db`:\n",
    "db     = sqlite3.connect('sample.db')\n",
    "cursor = db.cursor()\n",
    "cursor.execute(\"SELECT name FROM sqlite_master WHERE type='table'\")\n",
    "print(cursor.fetchall())\n",
    "db.close()"
   ]
  },
  {
   "cell_type": "markdown",
   "metadata": {},
   "source": [
    "**Loading Data into `SQLite` Database Tables**\n",
    "--"
   ]
  },
  {
   "cell_type": "markdown",
   "metadata": {},
   "source": [
    "The following example demonstrates two methods of loading data into `SQLite` tables. The first method assumes the data is already available in memory in the current Python session. The second method assumes data is being loaded from a .csv file:"
   ]
  },
  {
   "cell_type": "markdown",
   "metadata": {},
   "source": [
    "NOTE: The file `ticker_data.csv`, included with this notebook, is required for the 2nd example."
   ]
  },
  {
   "cell_type": "code",
   "execution_count": null,
   "metadata": {
    "collapsed": true
   },
   "outputs": [],
   "source": [
    "#==========================================================\n",
    "# Method #1: Data already avialable in Python session     |\n",
    "#==========================================================\n",
    "\n",
    "# Reestablish connection to `sample.db` database:\n",
    "db     = sqlite3.connect('sample.db')\n",
    "cursor = db.cursor()\n",
    "\n",
    "# Insert four records into `CLOSING_PRICES` table based on the closing \n",
    "# prices of AXP, GE, GS & UTX on 7.22.2016.\n",
    "\n",
    "# Single records can be inserted using the `cursor.execute` method:\n",
    "cursor.execute(\"INSERT INTO TICKER_MAPPING VALUES ('AXP',  'American Express Company')\")\n",
    "cursor.execute(\"INSERT INTO TICKER_MAPPING VALUES ('GE' ,  'General Electric Company')\")\n",
    "cursor.execute(\"INSERT INTO TICKER_MAPPING VALUES ('GS' ,  'Goldman Sachs Group Inc')\")\n",
    "cursor.execute(\"INSERT INTO TICKER_MAPPING VALUES ('UTX' , 'United Technologies Corporation')\")\n",
    "\n",
    "\n",
    "# We can insert several records at once if we create a list \n",
    "# of tuples of the data to insert, then call `cursor.executemany`:\n",
    "closing_prices = [('20160722', 'AXP',  64.28),\n",
    "                  ('20160722', 'GE' ,  32.06),\n",
    "                  ('20160722', 'GS' , 160.41),\n",
    "                  ('20160722', 'UTX', 105.13)]\n",
    "\n",
    "\n",
    "# Calling `cursor.executemany`\n",
    "cursor.executemany(\"INSERT INTO CLOSING_PRICES VALUES (?,?,?)\", closing_prices)\n",
    "\n",
    "# Not forgetting to commit changes and close connection:\n",
    "db.commit()\n",
    "db.close()"
   ]
  },
  {
   "cell_type": "markdown",
   "metadata": {},
   "source": [
    "The `(?,?,?)` in `cursor.executemany` serve as placeholders for columns in the target table. There should be one `?` for each column in the target table. The more common scenario may be loading data from file into an `SQLite` database table. The syntax is similiar, with added file handling logic:"
   ]
  },
  {
   "cell_type": "code",
   "execution_count": null,
   "metadata": {
    "collapsed": false
   },
   "outputs": [],
   "source": [
    "#=====================================\n",
    "# Method #2: Data read in from .csv  |\n",
    "#=====================================\n",
    "\n",
    "# Requires `ticker_data.csv` file\n",
    "import sqlite3\n",
    "import csv\n",
    "\n",
    "# Reestablish connection to `sample.db` database:\n",
    "db     = sqlite3.connect('sample.db')\n",
    "cursor = db.cursor()\n",
    "\n",
    "# Open `ticker_data.csv`, and create a csv.reader instance:\n",
    "with open('ticker_data.csv', 'r') as f:  # on Windows, change `r` to `rb`\n",
    "    \n",
    "    fcsv = csv.reader(f)\n",
    "    \n",
    "    # `recs_to_load` is a list of records contained in `ticker_data.csv`:\n",
    "    recs_to_load = [record for record in fcsv]\n",
    "\n",
    "    # call `cursor.executemany`, specifying `recs_to_load`\n",
    "    cursor.executemany(\"INSERT INTO CLOSING_PRICES VALUES (?,?,?)\", recs_to_load)\n",
    "\n",
    "# Not forgetting to commit changes and close connection:\n",
    "db.commit()\n",
    "db.close()"
   ]
  },
  {
   "cell_type": "markdown",
   "metadata": {},
   "source": [
    "**`SQLite` Data Retrieval**\n",
    "=================="
   ]
  },
  {
   "cell_type": "markdown",
   "metadata": {},
   "source": [
    "Retrieval of `SQLite` database records is carried out in exactly the same as with `cx_Oracle`. An iterator in the form  \n",
    "of a database cursor is returned, which is traversed, yielding the query is question's result set:"
   ]
  },
  {
   "cell_type": "code",
   "execution_count": null,
   "metadata": {
    "collapsed": false
   },
   "outputs": [],
   "source": [
    "import sqlite3\n",
    "\n",
    "# reestablish connection to `sample.db` database:\n",
    "db     = sqlite3.connect('sample.db')\n",
    "cursor = db.cursor()\n",
    "\n",
    "#construct a query to retrieve data from `CLOSING_PRICES`:\n",
    "SQL = \"SELECT * FROM CLOSING_PRICES\"\n",
    "\n",
    "# call `cursor.execute` on query string:\n",
    "cursor.execute(SQL)\n",
    "\n",
    "# `cursor` can be iterated over:\n",
    "for rec in cursor:\n",
    "    print(rec)\n",
    "    \n",
    "# not forgetting to commit changes and close connection:   \n",
    "db.commit()\n",
    "db.close()\n"
   ]
  },
  {
   "cell_type": "markdown",
   "metadata": {},
   "source": [
    "Headers need to be extracted from the `cursor.description` attribute:"
   ]
  },
  {
   "cell_type": "code",
   "execution_count": null,
   "metadata": {
    "collapsed": false
   },
   "outputs": [],
   "source": [
    "# Obtain reference to table headers:\n",
    "import sqlite3\n",
    "\n",
    "# Reestablish connection to `sample.db` database:\n",
    "db     = sqlite3.connect('sample.db')\n",
    "cursor = db.cursor()\n",
    "\n",
    "#construct a query to retrieve data from `CLOSING_PRICES`:\n",
    "SQL = \"SELECT * FROM CLOSING_PRICES\"\n",
    "\n",
    "# Call `cursor.execute` on SQL:\n",
    "cursor.execute(SQL)\n",
    "\n",
    "# Capture table headers into `headers` list:\n",
    "headers = [i[0] for i in cursor.description]\n",
    "   \n",
    "# Not forgetting to commit changes and close connection:   \n",
    "db.commit()\n",
    "db.close()\n",
    "\n",
    "print(\"CLOSING_PRICES table fieldnames: {}\".format(headers))\n",
    "\n"
   ]
  },
  {
   "cell_type": "markdown",
   "metadata": {},
   "source": [
    "The following is an example using bind variables with `sqlite`:"
   ]
  },
  {
   "cell_type": "code",
   "execution_count": null,
   "metadata": {
    "collapsed": false
   },
   "outputs": [],
   "source": [
    "import sqlite3\n",
    "\n",
    "# Reestablish connection to `sample.db` database:\n",
    "db     = sqlite3.connect('sample.db')\n",
    "cursor = db.cursor()\n",
    "\n",
    "# Bind variable key-value pairs:\n",
    "params = {'symbol':'GE','date':'20161125'}\n",
    "SQL    = \"SELECT * FROM CLOSING_PRICES WHERE TICKER=:symbol AND DATE!=:date\"\n",
    "cursor.execute(SQL, params)\n",
    "\n",
    "headers = [i[0] for i in cursor.description]\n",
    "\n",
    "#returns records where ticker == 'GE' && date != '20161125'\n",
    "print(headers)\n",
    "for record in cursor: print(record)\n",
    "\n",
    "db.commit()\n",
    "db.close()\n"
   ]
  }
 ],
 "metadata": {
  "kernelspec": {
   "display_name": "Python 3",
   "language": "python",
   "name": "python3"
  },
  "language_info": {
   "codemirror_mode": {
    "name": "ipython",
    "version": 3
   },
   "file_extension": ".py",
   "mimetype": "text/x-python",
   "name": "python",
   "nbconvert_exporter": "python",
   "pygments_lexer": "ipython3",
   "version": "3.5.1"
  }
 },
 "nbformat": 4,
 "nbformat_minor": 0
}
